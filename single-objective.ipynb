{
 "cells": [
  {
   "cell_type": "markdown",
   "metadata": {},
   "source": [
    "# Genetic algorithm to optimize investment in the stock market"
   ]
  },
  {
   "cell_type": "markdown",
   "metadata": {},
   "source": [
    "## Imports"
   ]
  },
  {
   "cell_type": "code",
   "execution_count": 1,
   "metadata": {},
   "outputs": [],
   "source": [
    "import pandas as pd\n",
    "import matplotlib.pyplot as plt\n",
    "import numpy as np\n",
    "import os\n",
    "import random\n",
    "from deap import base\n",
    "from deap import creator\n",
    "from deap import tools\n",
    "from deap import algorithms\n",
    "import itertools\n",
    "import matplotlib.pyplot as plt"
   ]
  },
  {
   "cell_type": "markdown",
   "metadata": {},
   "source": [
    "## Assign problem hyperparameters\n",
    "\n",
    "Two types of hyperparameters exist:\n",
    " - **Fixed parameters:** defined in the project statement\n",
    " - **Test parameters:** defined by us to test different implementations of the algorithm"
   ]
  },
  {
   "cell_type": "code",
   "execution_count": 2,
   "metadata": {},
   "outputs": [],
   "source": [
    "# FIXED PARAMETERS\n",
    "POPULATION_SIZE = 64 # number of individuals in population\n",
    "GENERATIONS = 10000   # number of generations (evaluation rounds)\n",
    "MAX_RUNS = 30 # number of runs with different random seeds\n",
    "\n",
    "# TEST PARAMETERS\n",
    "CROSSOVER_PROBABILITY = 0.8 # probability of crossover operation\n",
    "MUTATION_PROBABILITY = 0.2 # probability of mutation operation\n",
    "TOURNAMENT_SIZE = 3 # number of individuals participating in tournament selection"
   ]
  },
  {
   "cell_type": "markdown",
   "metadata": {},
   "source": [
    "## Process datasets\n",
    "\n",
    "Filter the data relevant for the problem in question"
   ]
  },
  {
   "cell_type": "code",
   "execution_count": 3,
   "metadata": {},
   "outputs": [],
   "source": [
    "def process_data(data):\n",
    "    # only relevant from 01/01/2020 onwards to 31/12/2022 (3 years)\n",
    "    # convert to datetime format\n",
    "    data['Date'] = pd.to_datetime(data['Date'], format='%d/%m/%Y')\n",
    "    data = data[data['Date'] >= '01-01-2020']\n",
    "    data = data[data['Date'] <= '31-12-2022']\n",
    "\n",
    "    # calculate the difference between consecutive values in the 'Close' column\n",
    "    value_diff = data['Close'].diff()\n",
    "\n",
    "    # create 'Gain' and 'Loss' columns based on the 'Value_Diff'\n",
    "    gain = value_diff.apply(lambda x: max(0, x))\n",
    "    loss = value_diff.apply(lambda x: max(0, -x))\n",
    "\n",
    "    # calculate the rolling sum of 'Gain' and 'Loss' for a 7-day, 14-day, and 21-day periods\n",
    "    average_gain_7 =  gain.rolling(window=7).mean()\n",
    "    average_loss_7 =  loss.rolling(window=7).mean()\n",
    "    average_gain_14 = gain.rolling(window=14).mean()\n",
    "    average_loss_14 = loss.rolling(window=14).mean()\n",
    "    average_gain_21 = gain.rolling(window=21).mean()\n",
    "    average_loss_21 = loss.rolling(window=21).mean()\n",
    "\n",
    "    # calculate the Relative Strength (RS)\n",
    "    rs_7 = average_gain_7/average_loss_7\n",
    "    rs_14 = average_gain_14/average_loss_14\n",
    "    rs_21 = average_gain_21/average_loss_21\n",
    "\n",
    "    # calculate the Relative Strength Index (RSI)\n",
    "    data['RSI7'] = 100 - (100/(1+rs_7))\n",
    "    data['RSI14'] = 100 - (100/(1+rs_14))\n",
    "    data['RSI21'] = 100 - (100/(1+rs_21))\n",
    "\n",
    "    # Reset the index of the DataFrame\n",
    "    data.reset_index(drop=True, inplace=True)\n",
    "    return data"
   ]
  },
  {
   "cell_type": "markdown",
   "metadata": {},
   "source": [
    "## Initialize DEAP"
   ]
  },
  {
   "cell_type": "code",
   "execution_count": 4,
   "metadata": {},
   "outputs": [],
   "source": [
    "# create the fitness function\n",
    "creator.create(\"FitnessMax\", base.Fitness, weights=(1.0,))\n",
    "creator.create(\"Individual\", list, fitness=creator.FitnessMax)\n",
    "\n",
    "# define the parameters\n",
    "rsi_periods = [7, 14, 21]\n",
    "lower_range = list(range(0, 101, 5))\n",
    "upper_range = list(range(0, 101, 5))\n",
    "\n",
    "# create the toolbox\n",
    "toolbox = base.Toolbox()\n",
    "\n",
    "toolbox.register(\"rsi_period\", random.choice, rsi_periods)\n",
    "toolbox.register(\"bound\", random.choice, lower_range)\n",
    "\n",
    "toolbox.register(\"attr_pool\", tools.initCycle, tuple, [toolbox.rsi_period,\n",
    "                                                       toolbox.bound,\n",
    "                                                       toolbox.bound])\n",
    "\n",
    "tools.initCycle\n",
    "tools.initRepeat\n",
    "\n",
    "toolbox.register(\"individual\", tools.initRepeat, creator.Individual, toolbox.attr_pool, n=2)\n",
    "toolbox.register(\"population\",tools.initRepeat, list, toolbox.individual)"
   ]
  },
  {
   "cell_type": "markdown",
   "metadata": {},
   "source": [
    "## Define simulation function\n",
    "\n",
    "The simulation will be used in the **epigenesis** stage"
   ]
  },
  {
   "cell_type": "code",
   "execution_count": 5,
   "metadata": {},
   "outputs": [],
   "source": [
    "# individual = ((21, 30, 70), (14, 30, 80))\n",
    "\n",
    "# data = pd.read_csv('data/NVDA.csv', sep=';', usecols=['Date', 'Close'])\n",
    "\n",
    "# data = process_data(data)\n",
    "\n",
    "\n",
    "def simulate_behaviour(individual, data):\n",
    "    # extract the parameters from the individual chromosome\n",
    "    (rsi_period_short, lower_short, upper_short), (rsi_period_long, lower_long, upper_long) = individual\n",
    "    \n",
    "    rsi_period_long = \"RSI\" + str(rsi_period_long)\n",
    "    rsi_period_short = \"RSI\" + str(rsi_period_short)\n",
    "\n",
    "    # based on the parameters, choose dates to buy and sell\n",
    "    long_buys = data[(data[rsi_period_long] >= lower_long) & \n",
    "                              ((data[rsi_period_long].shift(1) < lower_long) |\n",
    "                               (data[rsi_period_long].shift(1) == np.nan))].copy()\n",
    "    \n",
    "    short_sells = data[(data[rsi_period_short] <= upper_short) &\n",
    "                                ((data[rsi_period_short].shift(1) > upper_short) |\n",
    "                                 (data[rsi_period_short].shift(1) == np.nan))].copy()\n",
    "    \n",
    "    long_sells = []\n",
    "    for index, row in long_buys.iterrows():\n",
    "        candidate_sells = data[(data['Date'] > row['Date']) &\n",
    "                               (data[rsi_period_long] >= upper_long)]\n",
    "        if (candidate_sells.empty):\n",
    "            new_sell = dict(data.iloc[-1])\n",
    "            new_sell['index'] = len(data) - 1\n",
    "        else:\n",
    "            new_sell = dict(candidate_sells.iloc[0])\n",
    "            new_sell['index'] = candidate_sells.index[0]\n",
    "\n",
    "        long_sells.append(new_sell)\n",
    "        drop_rows = [i for i in long_buys.index if i > index and i < new_sell['index']]\n",
    "        long_buys.drop(drop_rows, inplace=True) \n",
    "\n",
    "    short_buys = []\n",
    "    for index, row in short_sells.iterrows():\n",
    "        candidate_buys = data[(data['Date'] > row['Date']) &\n",
    "                              (data[rsi_period_short] <= lower_short)]\n",
    "        if (candidate_buys.empty):\n",
    "            new_buy = dict(data.iloc[-1])\n",
    "            new_buy['index'] = len(data) - 1\n",
    "        else:\n",
    "            new_buy = dict(candidate_buys.iloc[0])\n",
    "            new_buy['index'] = candidate_buys.index[0]\n",
    "\n",
    "        short_buys.append(new_buy)\n",
    "        drop_rows = [i for i in short_sells.index if i > index and i < new_buy['index']]\n",
    "        short_sells.drop(drop_rows, inplace=True)\n",
    "\n",
    "    long_sells = pd.DataFrame(long_sells)\n",
    "    short_buys = pd.DataFrame(short_buys)\n",
    "\n",
    "    if not long_sells.empty:\n",
    "        long_sells.drop_duplicates(subset='index', inplace=True)\n",
    "        long_sells.set_index('index', inplace=True)\n",
    "    else:\n",
    "        long_sells = pd.DataFrame(columns=data.columns)\n",
    "    if not short_buys.empty:\n",
    "        short_buys.drop_duplicates(subset='index', inplace=True)\n",
    "        short_buys.set_index('index', inplace=True)\n",
    "    else:\n",
    "        short_buys = pd.DataFrame(columns=data.columns)\n",
    "\n",
    "    trades_long = pd.merge_asof(long_buys, long_sells, \n",
    "                                left_index=True, right_index=True, \n",
    "                                direction='forward', suffixes=('_buy', '_sell'))\n",
    "    \n",
    "    trades_short = pd.merge_asof(short_sells, short_buys,\n",
    "                                 left_index=True, right_index=True,\n",
    "                                 direction='forward', suffixes=('_sell', '_buy'))\n",
    "\n",
    "    return (trades_long, trades_short)\n",
    "\n",
    "# trades_long, trades_short = simulate_behaviour(individual, data)\n",
    "\n",
    "# # plot evolution of RSI and points where buys and sells are possible\n",
    "# plt.figure(figsize=(20,10))\n",
    "# plt.plot(data['Date'], data['Close'], label='Close')\n",
    "# plt.plot(trades_long['Date_buy'], trades_long['Close_buy'], 'ro', label='Buys Long')\n",
    "# plt.plot(trades_long['Date_sell'], trades_long['Close_sell'], 'go', label='Sells Long')\n",
    "# plt.plot(trades_short['Date_sell'], trades_short['Close_sell'], 'bo', label='Sells Short')\n",
    "# plt.plot(trades_short['Date_buy'], trades_short['Close_buy'], 'yo', label='Buys Short')\n",
    "# plt.legend(loc='upper left')\n",
    "# plt.show()\n",
    "\n",
    "toolbox.register(\"simulate\", simulate_behaviour)"
   ]
  },
  {
   "cell_type": "markdown",
   "metadata": {},
   "source": [
    "## Define objective function\n",
    "\n",
    "The objective function will be used in the **selection** stage"
   ]
  },
  {
   "cell_type": "code",
   "execution_count": 6,
   "metadata": {},
   "outputs": [],
   "source": [
    "def evaluate_results(trades_long, trades_short):\n",
    "    # calculate the return on investment (ROI) for each trade\n",
    "    trades_long['ROI'] = (trades_long['Close_sell'] - trades_long['Close_buy']) / trades_long['Close_buy'] * 100\n",
    "    trades_short['ROI'] = (trades_short['Close_sell'] - trades_short['Close_buy']) / trades_short['Close_sell'] * 100\n",
    "\n",
    "    # calculate the total ROI for each trade type\n",
    "    average_roi_long = trades_long['ROI'].sum()\n",
    "    average_roi_short = trades_short['ROI'].sum()\n",
    "\n",
    "    # calculate the average ROI \n",
    "    average_roi = (average_roi_long + average_roi_short) / 2\n",
    "    return average_roi,\n",
    "\n",
    "toolbox.register(\"evaluate\", evaluate_results)"
   ]
  },
  {
   "cell_type": "markdown",
   "metadata": {},
   "source": [
    "## Define selection method\n",
    "\n",
    "The selection function will be used in the **survival** stage"
   ]
  },
  {
   "cell_type": "code",
   "execution_count": 7,
   "metadata": {},
   "outputs": [],
   "source": [
    "toolbox.register(\"select\", tools.selTournament, tournsize=3)"
   ]
  },
  {
   "cell_type": "markdown",
   "metadata": {},
   "source": [
    "## Define mutation method\n",
    "\n",
    "The mutation function will be used in the **mutation** stage"
   ]
  },
  {
   "cell_type": "code",
   "execution_count": 8,
   "metadata": {},
   "outputs": [],
   "source": [
    "toolbox.register(\"mate\", tools.cxTwoPoint)\n",
    "toolbox.register(\"mutate\", tools.mutUniformInt, low=0, up=100, indpb=0.1)"
   ]
  },
  {
   "cell_type": "markdown",
   "metadata": {},
   "source": [
    "## Run the algorithm"
   ]
  },
  {
   "cell_type": "code",
   "execution_count": 14,
   "metadata": {},
   "outputs": [
    {
     "name": "stdout",
     "output_type": "stream",
     "text": [
      "--Run: 0--\n",
      "\n",
      "[[(14, 65, 5), (14, 80, 75)], [(14, 45, 75), (14, 90, 30)], [(21, 20, 45), (7, 15, 95)], [(14, 85, 95), (7, 45, 15)], [(21, 10, 50), (14, 85, 15)], [(14, 65, 50), (21, 100, 30)], [(21, 75, 70), (21, 40, 5)], [(21, 0, 10), (21, 60, 100)], [(7, 95, 75), (14, 35, 50)], [(21, 10, 30), (21, 35, 35)], [(7, 85, 70), (7, 10, 50)], [(21, 75, 15), (14, 85, 45)], [(21, 15, 85), (14, 85, 30)], [(21, 85, 90), (14, 70, 10)], [(21, 60, 50), (21, 35, 45)], [(7, 30, 25), (7, 95, 40)], [(14, 10, 10), (21, 20, 20)], [(7, 10, 85), (21, 60, 80)], [(14, 80, 35), (7, 90, 65)], [(21, 40, 70), (14, 100, 55)], [(7, 50, 95), (7, 75, 90)], [(21, 50, 30), (7, 0, 40)], [(7, 35, 55), (7, 50, 65)], [(7, 15, 20), (21, 35, 5)], [(21, 100, 85), (21, 10, 0)], [(7, 100, 30), (21, 90, 15)], [(14, 10, 55), (7, 5, 95)], [(7, 30, 25), (21, 15, 75)], [(7, 5, 0), (21, 65, 95)], [(7, 40, 10), (7, 10, 100)], [(14, 55, 65), (7, 5, 80)], [(14, 5, 95), (7, 60, 30)], [(14, 55, 75), (21, 25, 30)], [(7, 25, 25), (14, 80, 40)], [(7, 95, 70), (21, 25, 0)], [(14, 65, 90), (21, 45, 100)], [(14, 60, 40), (7, 85, 0)], [(14, 10, 50), (21, 5, 85)], [(14, 20, 35), (14, 55, 95)], [(14, 55, 90), (21, 95, 20)], [(21, 45, 60), (21, 65, 100)], [(7, 0, 95), (7, 50, 25)], [(7, 35, 100), (14, 60, 90)], [(14, 5, 60), (21, 90, 65)], [(21, 5, 25), (14, 10, 40)], [(21, 25, 70), (21, 75, 85)], [(21, 0, 5), (14, 50, 45)], [(14, 5, 65), (7, 85, 100)], [(7, 20, 0), (14, 65, 50)], [(7, 30, 0), (21, 0, 80)], [(21, 15, 30), (7, 95, 100)], [(7, 45, 40), (21, 25, 15)], [(14, 60, 100), (7, 0, 40)], [(14, 15, 40), (7, 100, 80)], [(21, 100, 55), (7, 20, 40)], [(7, 5, 5), (7, 40, 85)], [(14, 55, 90), (7, 95, 100)], [(14, 100, 70), (21, 65, 55)], [(21, 25, 30), (14, 90, 45)], [(7, 20, 20), (14, 50, 50)], [(14, 10, 50), (21, 5, 5)], [(14, 25, 20), (21, 45, 55)], [(14, 85, 20), (14, 15, 75)], [(21, 35, 5), (14, 25, 80)]]\n",
      "Starting evolution...\n",
      "Evaluated 64 individuals\n",
      "--Generation: 0--\n"
     ]
    },
    {
     "ename": "TypeError",
     "evalue": "cannot unpack non-iterable int object",
     "output_type": "error",
     "traceback": [
      "\u001b[0;31m---------------------------------------------------------------------------\u001b[0m",
      "\u001b[0;31mTypeError\u001b[0m                                 Traceback (most recent call last)",
      "\u001b[1;32m/home/duarte/Documents/CInt/CInt_Project2/single-objective.ipynb Cell 19\u001b[0m line \u001b[0;36m8\n\u001b[1;32m     <a href='vscode-notebook-cell:/home/duarte/Documents/CInt/CInt_Project2/single-objective.ipynb#X25sZmlsZQ%3D%3D?line=76'>77</a>\u001b[0m         data_dictionary[df_name] \u001b[39m=\u001b[39m data\n\u001b[1;32m     <a href='vscode-notebook-cell:/home/duarte/Documents/CInt/CInt_Project2/single-objective.ipynb#X25sZmlsZQ%3D%3D?line=78'>79</a>\u001b[0m \u001b[39mfor\u001b[39;00m df_name \u001b[39min\u001b[39;00m data_dictionary:\n\u001b[0;32m---> <a href='vscode-notebook-cell:/home/duarte/Documents/CInt/CInt_Project2/single-objective.ipynb#X25sZmlsZQ%3D%3D?line=79'>80</a>\u001b[0m     algorithm(data_dictionary[df_name])\n",
      "\u001b[1;32m/home/duarte/Documents/CInt/CInt_Project2/single-objective.ipynb Cell 19\u001b[0m line \u001b[0;36m3\n\u001b[1;32m     <a href='vscode-notebook-cell:/home/duarte/Documents/CInt/CInt_Project2/single-objective.ipynb#X25sZmlsZQ%3D%3D?line=35'>36</a>\u001b[0m behaviours \u001b[39m=\u001b[39m \u001b[39mmap\u001b[39m(\u001b[39mlambda\u001b[39;00m ind: toolbox\u001b[39m.\u001b[39msimulate(ind, data), invalid_ind)\n\u001b[1;32m     <a href='vscode-notebook-cell:/home/duarte/Documents/CInt/CInt_Project2/single-objective.ipynb#X25sZmlsZQ%3D%3D?line=36'>37</a>\u001b[0m fitnesses \u001b[39m=\u001b[39m \u001b[39mmap\u001b[39m(\u001b[39mlambda\u001b[39;00m bhv: toolbox\u001b[39m.\u001b[39mevaluate(bhv[\u001b[39m0\u001b[39m], bhv[\u001b[39m1\u001b[39m]), behaviours)\n\u001b[0;32m---> <a href='vscode-notebook-cell:/home/duarte/Documents/CInt/CInt_Project2/single-objective.ipynb#X25sZmlsZQ%3D%3D?line=37'>38</a>\u001b[0m \u001b[39mfor\u001b[39;00m ind, fit \u001b[39min\u001b[39;00m \u001b[39mzip\u001b[39m(invalid_ind, fitnesses):\n\u001b[1;32m     <a href='vscode-notebook-cell:/home/duarte/Documents/CInt/CInt_Project2/single-objective.ipynb#X25sZmlsZQ%3D%3D?line=38'>39</a>\u001b[0m     ind\u001b[39m.\u001b[39mfitness\u001b[39m.\u001b[39mvalues \u001b[39m=\u001b[39m fit\n\u001b[1;32m     <a href='vscode-notebook-cell:/home/duarte/Documents/CInt/CInt_Project2/single-objective.ipynb#X25sZmlsZQ%3D%3D?line=40'>41</a>\u001b[0m \u001b[39mprint\u001b[39m(\u001b[39m'\u001b[39m\u001b[39mEvaluated \u001b[39m\u001b[39m{0}\u001b[39;00m\u001b[39m individuals\u001b[39m\u001b[39m'\u001b[39m\u001b[39m.\u001b[39mformat(\u001b[39mlen\u001b[39m(invalid_ind)))\n",
      "\u001b[1;32m/home/duarte/Documents/CInt/CInt_Project2/single-objective.ipynb Cell 19\u001b[0m line \u001b[0;36m3\n\u001b[1;32m     <a href='vscode-notebook-cell:/home/duarte/Documents/CInt/CInt_Project2/single-objective.ipynb#X25sZmlsZQ%3D%3D?line=33'>34</a>\u001b[0m \u001b[39m# evaluate the individuals with an invalid fitness\u001b[39;00m\n\u001b[1;32m     <a href='vscode-notebook-cell:/home/duarte/Documents/CInt/CInt_Project2/single-objective.ipynb#X25sZmlsZQ%3D%3D?line=34'>35</a>\u001b[0m invalid_ind \u001b[39m=\u001b[39m [ind \u001b[39mfor\u001b[39;00m ind \u001b[39min\u001b[39;00m offspring \u001b[39mif\u001b[39;00m \u001b[39mnot\u001b[39;00m ind\u001b[39m.\u001b[39mfitness\u001b[39m.\u001b[39mvalid]\n\u001b[0;32m---> <a href='vscode-notebook-cell:/home/duarte/Documents/CInt/CInt_Project2/single-objective.ipynb#X25sZmlsZQ%3D%3D?line=35'>36</a>\u001b[0m behaviours \u001b[39m=\u001b[39m \u001b[39mmap\u001b[39m(\u001b[39mlambda\u001b[39;00m ind: toolbox\u001b[39m.\u001b[39;49msimulate(ind, data), invalid_ind)\n\u001b[1;32m     <a href='vscode-notebook-cell:/home/duarte/Documents/CInt/CInt_Project2/single-objective.ipynb#X25sZmlsZQ%3D%3D?line=36'>37</a>\u001b[0m fitnesses \u001b[39m=\u001b[39m \u001b[39mmap\u001b[39m(\u001b[39mlambda\u001b[39;00m bhv: toolbox\u001b[39m.\u001b[39mevaluate(bhv[\u001b[39m0\u001b[39m], bhv[\u001b[39m1\u001b[39m]), behaviours)\n\u001b[1;32m     <a href='vscode-notebook-cell:/home/duarte/Documents/CInt/CInt_Project2/single-objective.ipynb#X25sZmlsZQ%3D%3D?line=37'>38</a>\u001b[0m \u001b[39mfor\u001b[39;00m ind, fit \u001b[39min\u001b[39;00m \u001b[39mzip\u001b[39m(invalid_ind, fitnesses):\n",
      "\u001b[1;32m/home/duarte/Documents/CInt/CInt_Project2/single-objective.ipynb Cell 19\u001b[0m line \u001b[0;36m1\n\u001b[1;32m      <a href='vscode-notebook-cell:/home/duarte/Documents/CInt/CInt_Project2/single-objective.ipynb#X25sZmlsZQ%3D%3D?line=7'>8</a>\u001b[0m \u001b[39mdef\u001b[39;00m \u001b[39msimulate_behaviour\u001b[39m(individual, data):\n\u001b[1;32m      <a href='vscode-notebook-cell:/home/duarte/Documents/CInt/CInt_Project2/single-objective.ipynb#X25sZmlsZQ%3D%3D?line=8'>9</a>\u001b[0m     \u001b[39m# extract the parameters from the individual chromosome\u001b[39;00m\n\u001b[0;32m---> <a href='vscode-notebook-cell:/home/duarte/Documents/CInt/CInt_Project2/single-objective.ipynb#X25sZmlsZQ%3D%3D?line=9'>10</a>\u001b[0m     (rsi_period_short, lower_short, upper_short), (rsi_period_long, lower_long, upper_long) \u001b[39m=\u001b[39m individual\n\u001b[1;32m     <a href='vscode-notebook-cell:/home/duarte/Documents/CInt/CInt_Project2/single-objective.ipynb#X25sZmlsZQ%3D%3D?line=11'>12</a>\u001b[0m     rsi_period_long \u001b[39m=\u001b[39m \u001b[39m\"\u001b[39m\u001b[39mRSI\u001b[39m\u001b[39m\"\u001b[39m \u001b[39m+\u001b[39m \u001b[39mstr\u001b[39m(rsi_period_long)\n\u001b[1;32m     <a href='vscode-notebook-cell:/home/duarte/Documents/CInt/CInt_Project2/single-objective.ipynb#X25sZmlsZQ%3D%3D?line=12'>13</a>\u001b[0m     rsi_period_short \u001b[39m=\u001b[39m \u001b[39m\"\u001b[39m\u001b[39mRSI\u001b[39m\u001b[39m\"\u001b[39m \u001b[39m+\u001b[39m \u001b[39mstr\u001b[39m(rsi_period_short)\n",
      "\u001b[0;31mTypeError\u001b[0m: cannot unpack non-iterable int object"
     ]
    }
   ],
   "source": [
    "def algorithm(data):\n",
    "    for i in range(MAX_RUNS):\n",
    "        random.seed(i) # set random seed for each run\n",
    "        print('--Run: {0}--\\n'.format(i))\n",
    "        # create the initial population\n",
    "        pop = toolbox.population(n=POPULATION_SIZE)\n",
    "        print(pop)\n",
    "        print('Starting evolution...')\n",
    "\n",
    "        # evaluate the entire population\n",
    "        behaviours = list(map(lambda ind: toolbox.simulate(ind, data), pop))\n",
    "        fitnesses = list(map(lambda bhv: toolbox.evaluate(bhv[0], bhv[1]), behaviours)) \n",
    "        for ind, fit in zip(pop, fitnesses):\n",
    "            ind.fitness.values = fit\n",
    "\n",
    "        print('Evaluated {0} individuals'.format(len(pop)))\n",
    "\n",
    "        for g in range(GENERATIONS):\n",
    "            print('--Generation: {0}--'.format(g))\n",
    "            offspring = toolbox.select(pop, len(pop))\n",
    "            offspring = list(map(toolbox.clone, offspring))\n",
    "\n",
    "            for child1, child2 in zip(offspring[::2], offspring[1::2]):\n",
    "                if random.random() < CROSSOVER_PROBABILITY:\n",
    "                    toolbox.mate(child1, child2)\n",
    "                    del child1.fitness.values\n",
    "                    del child2.fitness.values\n",
    "            \n",
    "            for mutant in offspring:\n",
    "                if random.random() < MUTATION_PROBABILITY:\n",
    "                    toolbox.mutate(mutant)\n",
    "                    del mutant.fitness.values\n",
    "\n",
    "            # evaluate the individuals with an invalid fitness\n",
    "            invalid_ind = [ind for ind in offspring if not ind.fitness.valid]\n",
    "            behaviours = map(lambda ind: toolbox.simulate(ind, data), invalid_ind)\n",
    "            fitnesses = map(lambda bhv: toolbox.evaluate(bhv[0], bhv[1]), behaviours)\n",
    "            for ind, fit in zip(invalid_ind, fitnesses):\n",
    "                ind.fitness.values = fit\n",
    "\n",
    "            print('Evaluated {0} individuals'.format(len(invalid_ind)))\n",
    "\n",
    "            pop[:] = offspring\n",
    "\n",
    "            fits = [ind.fitness.values[0] for ind in pop]\n",
    "\n",
    "            length = len(pop)\n",
    "            mean = sum(fits) / length\n",
    "            sum2 = sum(x*x for x in fits)\n",
    "            std = abs(sum2 / length - mean**2)**0.5\n",
    "\n",
    "            print('Min: {0}'.format(min(fits)))\n",
    "            print('Max: {0}'.format(max(fits)))\n",
    "            print('Avg: {0}'.format(mean))\n",
    "            print('Std: {0}'.format(std))\n",
    "\n",
    "        print('-- End of (successful) evolution --')\n",
    "\n",
    "folder_path = 'data'\n",
    "\n",
    "file_list = os.listdir(folder_path)\n",
    "\n",
    "data_dictionary = {}\n",
    "RSI_dictionary = {}\n",
    "price_dictionary = {}\n",
    "date_dictionary = {}\n",
    "\n",
    "for file_name in file_list:\n",
    "    if file_name.endswith('.csv'):\n",
    "        # extract the base name of the file (without the extension)\n",
    "        df_name = os.path.splitext(file_name)[0]\n",
    "        # construct the full file path\n",
    "        file_path = os.path.join(folder_path, file_name)\n",
    "        # read the CSV file into a DataFrame with the base name as the variable name\n",
    "        data_dictionary[df_name] = pd.read_csv(file_path, sep=';', usecols=['Date', 'Close'])\n",
    "        data = process_data(data_dictionary[df_name])\n",
    "        data_dictionary[df_name] = data\n",
    "\n",
    "for df_name in data_dictionary:\n",
    "    algorithm(data_dictionary[df_name])"
   ]
  }
 ],
 "metadata": {
  "kernelspec": {
   "display_name": "Python 3",
   "language": "python",
   "name": "python3"
  },
  "language_info": {
   "codemirror_mode": {
    "name": "ipython",
    "version": 3
   },
   "file_extension": ".py",
   "mimetype": "text/x-python",
   "name": "python",
   "nbconvert_exporter": "python",
   "pygments_lexer": "ipython3",
   "version": "3.10.12"
  }
 },
 "nbformat": 4,
 "nbformat_minor": 2
}
